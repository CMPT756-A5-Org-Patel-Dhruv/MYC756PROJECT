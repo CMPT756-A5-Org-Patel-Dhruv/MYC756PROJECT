{
 "cells": [
  {
   "cell_type": "code",
   "execution_count": 1,
   "id": "77de3b4c-8101-48cf-9b16-9f039003b25b",
   "metadata": {},
   "outputs": [],
   "source": [
    "import pandas as pd"
   ]
  },
  {
   "cell_type": "markdown",
   "id": "5225bf54",
   "metadata": {},
   "source": [
    "#creating dataframe for the 3 month and 6 month datasets"
   ]
  },
  {
   "cell_type": "code",
   "execution_count": null,
   "id": "00157718-7bf3-473d-b281-d585697959e5",
   "metadata": {},
   "outputs": [],
   "source": [
    "df_3_month = pd.read_csv(\"data/3_months_data.csv\")\n",
    "df_6_month = pd.read_csv(\"data/6_months_data.csv\")"
   ]
  },
  {
   "cell_type": "markdown",
   "id": "cb77ca45",
   "metadata": {},
   "source": [
    "# replacing null values with 0 in the Income column for 3 and 6 month data set"
   ]
  },
  {
   "cell_type": "code",
   "execution_count": null,
   "id": "3d59f103",
   "metadata": {},
   "outputs": [],
   "source": [
    "df_3_month['Income'] = df_3_month['Income'].fillna(0)\n",
    "df_6_month['Income'] = df_6_month['Income'].fillna(0)"
   ]
  },
  {
   "cell_type": "markdown",
   "id": "bec178c6",
   "metadata": {},
   "source": [
    "# updating VISA_Balance column with average values "
   ]
  },
  {
   "cell_type": "code",
   "execution_count": null,
   "id": "3710b416",
   "metadata": {},
   "outputs": [],
   "source": [
    "df_3_month['VISA_balance']=df_3_month['VISA_balance'].replace(0,df_3_month['VISA_balance'].mean())"
   ]
  }
 ],
 "metadata": {
  "kernelspec": {
   "display_name": "Python 3 (ipykernel)",
   "language": "python",
   "name": "python3"
  },
  "language_info": {
   "codemirror_mode": {
    "name": "ipython",
    "version": 3
   },
   "file_extension": ".py",
   "mimetype": "text/x-python",
   "name": "python",
   "nbconvert_exporter": "python",
   "pygments_lexer": "ipython3",
   "version": "3.9.9"
  }
 },
 "nbformat": 4,
 "nbformat_minor": 5
}
